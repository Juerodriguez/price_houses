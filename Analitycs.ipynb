{
 "cells": [
  {
   "cell_type": "markdown",
   "id": "0982afd7",
   "metadata": {},
   "source": [
    "# Analitycs for Price Houses"
   ]
  },
  {
   "cell_type": "markdown",
   "id": "ca285e2a",
   "metadata": {},
   "source": [
    "##### Con este script se analizan los datos obtenidos del archivo houses.json el cual fue creado en el proyecto obteniendo los datos de mercado libre"
   ]
  },
  {
   "cell_type": "code",
   "execution_count": 7,
   "id": "d41d6f47",
   "metadata": {},
   "outputs": [],
   "source": [
    "import pandas as pd\n",
    "import json\n",
    "\n",
    "with open(\"houses.json\", \"r\") as file:\n",
    "    data = json.loads(file.read())\n",
    "    "
   ]
  },
  {
   "cell_type": "code",
   "execution_count": 8,
   "id": "3e22e559",
   "metadata": {},
   "outputs": [],
   "source": [
    "df_nested = pd.json_normalize(data, record_path=[\"houses\"])"
   ]
  },
  {
   "cell_type": "markdown",
   "id": "58f7b4a5",
   "metadata": {},
   "source": [
    "### Summary"
   ]
  },
  {
   "cell_type": "code",
   "execution_count": 9,
   "id": "126efce1",
   "metadata": {},
   "outputs": [
    {
     "name": "stdout",
     "output_type": "stream",
     "text": [
      "<class 'pandas.core.frame.DataFrame'>\n",
      "RangeIndex: 48 entries, 0 to 47\n",
      "Data columns (total 3 columns):\n",
      " #   Column    Non-Null Count  Dtype \n",
      "---  ------    --------------  ----- \n",
      " 0   price     48 non-null     object\n",
      " 1   location  48 non-null     object\n",
      " 2   size      48 non-null     object\n",
      "dtypes: object(3)\n",
      "memory usage: 1.2+ KB\n"
     ]
    }
   ],
   "source": [
    "df_nested.info()"
   ]
  },
  {
   "cell_type": "code",
   "execution_count": null,
   "id": "d50dd674",
   "metadata": {},
   "outputs": [],
   "source": []
  },
  {
   "cell_type": "code",
   "execution_count": null,
   "id": "4fc07da0",
   "metadata": {},
   "outputs": [],
   "source": []
  }
 ],
 "metadata": {
  "kernelspec": {
   "display_name": "Python 3 (ipykernel)",
   "language": "python",
   "name": "python3"
  },
  "language_info": {
   "codemirror_mode": {
    "name": "ipython",
    "version": 3
   },
   "file_extension": ".py",
   "mimetype": "text/x-python",
   "name": "python",
   "nbconvert_exporter": "python",
   "pygments_lexer": "ipython3",
   "version": "3.9.13"
  }
 },
 "nbformat": 4,
 "nbformat_minor": 5
}
